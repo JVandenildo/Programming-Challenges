{
 "cells": [
  {
   "cell_type": "markdown",
   "metadata": {},
   "source": [
    "# FizzBuzz\n",
    "\n",
    "The given code solves the FizzBuzz problem and uses the words \"Solo\" and \"Learn\" instead of \"Fizz\" and \"Buzz\". It takes an input n and outputs the numbers from 1 to n.  \n",
    "- For each multiple of 3, print \"Solo\" instead of the number;\n",
    "- For each multiple of 5, print \"Learn\" instead of the number;\n",
    "- For numbers which are multiples of both 3 and 5, output \"SoloLearn\".\n",
    "\n",
    "You need to change che code to sip the even numbers, so that the logic only applies to odd numbers in the range the continue statement can be used to skip a loop."
   ]
  },
  {
   "cell_type": "code",
   "execution_count": 1,
   "metadata": {},
   "outputs": [
    {
     "name": "stdout",
     "output_type": "stream",
     "text": [
      "1\n",
      "Solo\n",
      "Learn\n",
      "7\n",
      "Solo\n",
      "11\n",
      "13\n",
      "Sololearn\n",
      "17\n",
      "19\n",
      "Solo\n",
      "23\n"
     ]
    }
   ],
   "source": [
    "n = int(input(\"Input: \"))\n",
    "\n",
    "for x in range(1, n):\n",
    "    if x % 2 == 0:\n",
    "        continue\n",
    "    if x % 3 == 0 and x % 5 == 0:\n",
    "        print(\"Sololearn\")\n",
    "    elif x % 3 == 0:\n",
    "        print(\"Solo\")\n",
    "    elif x % 5 == 0:\n",
    "        print(\"Learn\")\n",
    "    else:\n",
    "        print(x)"
   ]
  }
 ],
 "metadata": {
  "kernelspec": {
   "display_name": "Python 3",
   "language": "python",
   "name": "python3"
  },
  "language_info": {
   "codemirror_mode": {
    "name": "ipython",
    "version": 3
   },
   "file_extension": ".py",
   "mimetype": "text/x-python",
   "name": "python",
   "nbconvert_exporter": "python",
   "pygments_lexer": "ipython3",
   "version": "3.13.2"
  }
 },
 "nbformat": 4,
 "nbformat_minor": 2
}
