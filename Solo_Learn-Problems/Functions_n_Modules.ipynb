{
 "cells": [
  {
   "cell_type": "markdown",
   "metadata": {},
   "source": [
    "# Celsius to Fahrenheit Converter\n",
    "\n",
    "You are making a Celsius to Fahrenheit converter. Write a function to take the Celsius value as an argument and return the corresponding Fahrenheit value.\n",
    "\n",
    ">[!TIP] Fahrenheit =  9/5 * Celsius + 32"
   ]
  },
  {
   "cell_type": "code",
   "execution_count": null,
   "metadata": {},
   "outputs": [
    {
     "name": "stdout",
     "output_type": "stream",
     "text": [
      "71.6\n"
     ]
    }
   ],
   "source": [
    "def conv(celsius):\n",
    "    return (9/5) * celsius + 32\n",
    "\n",
    "\n",
    "celsius = int(input(\"Celsius:\"))\n",
    "fahrenheit = conv(celsius)\n",
    "print(fahrenheit)"
   ]
  }
 ],
 "metadata": {
  "kernelspec": {
   "display_name": "Python 3",
   "language": "python",
   "name": "python3"
  },
  "language_info": {
   "codemirror_mode": {
    "name": "ipython",
    "version": 3
   },
   "file_extension": ".py",
   "mimetype": "text/x-python",
   "name": "python",
   "nbconvert_exporter": "python",
   "pygments_lexer": "ipython3",
   "version": "3.13.2"
  }
 },
 "nbformat": 4,
 "nbformat_minor": 2
}
